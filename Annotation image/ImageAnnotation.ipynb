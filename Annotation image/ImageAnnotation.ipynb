{
 "cells": [
  {
   "cell_type": "code",
   "execution_count": 8,
   "metadata": {},
   "outputs": [],
   "source": [
    "import cv2\n",
    "import numpy as np\n",
    "import pandas as pd\n",
    "import sys"
   ]
  },
  {
   "cell_type": "code",
   "execution_count": 9,
   "metadata": {},
   "outputs": [],
   "source": [
    "INPUT_IMAGE = \"boy.jpg\"\n",
    "IMAGE_NAME = INPUT_IMAGE[:INPUT_IMAGE.index(\".\")]\n",
    "OUTPUT_IMAGE = IMAGE_NAME + \"_annotated.jpg\""
   ]
  },
  {
   "cell_type": "code",
   "execution_count": 10,
   "metadata": {},
   "outputs": [],
   "source": [
    "output_csv_file = sys.argv[2]"
   ]
  },
  {
   "cell_type": "code",
   "execution_count": 11,
   "metadata": {},
   "outputs": [],
   "source": [
    "image = cv2.imread(INPUT_IMAGE, -1)"
   ]
  },
  {
   "cell_type": "code",
   "execution_count": 12,
   "metadata": {},
   "outputs": [],
   "source": [
    "x_vals = []\n",
    "y_vals = []\n",
    "annotation_vals = []\n",
    "# Dictionary containing some colors\n",
    "colors = {'blue': (255, 0, 0), 'green': (0, 255, 0), 'red': (0, 0, 255),\n",
    "          'yellow': (0, 255, 255), 'magenta': (255, 0, 255),\n",
    "          'cyan': (255, 255, 0), 'white': (255, 255, 255), 'black': (0, 0, 0),\n",
    "          'gray': (125, 125, 125),\n",
    "          'rand': np.random.randint(0, high=256, size=(3,)).tolist(),\n",
    "          'dark_gray': (50, 50, 50), 'light_gray': (220, 220, 220)}\n"
   ]
  },
  {
   "cell_type": "code",
   "execution_count": 13,
   "metadata": {},
   "outputs": [],
   "source": [
    "def draw_circle(event, x, y, flags, param):\n",
    "    \"\"\"\n",
    "    Draws dots on double clicking of the left mouse button\n",
    "    \"\"\"\n",
    "    # Store the height and width of the image\n",
    "    # height = image.shape[0]\n",
    "    width = image.shape[1]\n",
    "\n",
    "    if event == cv2.EVENT_LBUTTONDBLCLK:\n",
    "        # Draw the dot\n",
    "        cv2.circle(image, (x, y), 5, colors['green'], -1)\n",
    "\n",
    "        # Annotate the image\n",
    "        txt = input(\"Describe this pixel using one word (e.g. grass) and press ENTER: \")\n",
    "\n",
    "        # Append values to the list\n",
    "        x_vals.append(x)\n",
    "        y_vals.append(y)\n",
    "        annotation_vals.append(txt)\n",
    "\n",
    "        # Print the coordinates and the annotation to the console\n",
    "        print(\"x = \" + str(x) + \"  y = \" + str(y)\n",
    "              + \"  Annotation = \" + txt + \"\\n\")\n",
    "\n",
    "        # Set the position of the text part of the annotation\n",
    "        text_x_pos = None\n",
    "        text_y_pos = y\n",
    "\n",
    "        if x < (width / 2) :\n",
    "            text_x_pos = int(x + (width * 0.075))\n",
    "        else:\n",
    "            text_x_pos = int(x - (width * 0.075))\n",
    "\n",
    "        # Write text on the image\n",
    "        cv2.putText(image, txt, (text_x_pos, text_y_pos),\n",
    "                    cv2.FONT_HERSHEY_SIMPLEX, 1, colors['yellow'], 2)\n",
    "\n",
    "        cv2.imwrite(OUTPUT_IMAGE, image)\n",
    "\n",
    "        # Prompt user for another annotation\n",
    "        print(\"Double click another pixel or press 'q' to quit...\\n\")"
   ]
  },
  {
   "cell_type": "code",
   "execution_count": null,
   "metadata": {},
   "outputs": [
    {
     "name": "stdout",
     "output_type": "stream",
     "text": [
      "Welcome to the Image Annotation Program!\n",
      "\n",
      "Double click anywhere inside the image to annotate that point...\n",
      "\n",
      "Describe this pixel using one word (e.g. grass) and press ENTER: Tree\n",
      "x = 228  y = 220  Annotation = Tree\n",
      "\n",
      "Double click another pixel or press 'q' to quit...\n",
      "\n",
      "Describe this pixel using one word (e.g. grass) and press ENTER: head\n",
      "x = 371  y = 241  Annotation = head\n",
      "\n",
      "Double click another pixel or press 'q' to quit...\n",
      "\n",
      "Describe this pixel using one word (e.g. grass) and press ENTER: grass\n",
      "x = 120  y = 523  Annotation = grass\n",
      "\n",
      "Double click another pixel or press 'q' to quit...\n",
      "\n",
      "Describe this pixel using one word (e.g. grass) and press ENTER: stone\n"
     ]
    }
   ],
   "source": [
    "print(\"Welcome to the Image Annotation Program!\\n\")\n",
    "print(\"Double click anywhere inside the image to annotate that point...\\n\")\n",
    "\n",
    "# We create a named window where the mouse callback will be established\n",
    "cv2.namedWindow('Image mouse')\n",
    "\n",
    "# We set the mouse callback function to 'draw_circle':\n",
    "cv2.setMouseCallback('Image mouse', draw_circle)\n",
    "\n",
    "while True:\n",
    "    # Show image 'Image mouse':\n",
    "    cv2.imshow('Image mouse', image)\n",
    "\n",
    "    # Continue until 'q' is pressed:\n",
    "    if cv2.waitKey(20) & 0xFF == ord('q'):\n",
    "        break\n",
    "\n",
    "# Create a dictionary using lists\n",
    "data = {'X': x_vals, 'Y': y_vals, 'Annotation': annotation_vals}\n",
    "\n",
    "# Create the Pandas DataFrame\n",
    "df = pd.DataFrame(data)\n",
    "print()\n",
    "print(df)\n",
    "print()\n",
    "\n",
    "# Export the dataframe to a csv file\n",
    "df.to_csv(path_or_buf=output_csv_file, index=None, header=True)\n",
    "\n",
    "# Destroy all generated windows:\n",
    "cv2.destroyAllWindows()"
   ]
  },
  {
   "cell_type": "code",
   "execution_count": null,
   "metadata": {},
   "outputs": [],
   "source": []
  }
 ],
 "metadata": {
  "kernelspec": {
   "display_name": "Python 3",
   "language": "python",
   "name": "python3"
  },
  "language_info": {
   "codemirror_mode": {
    "name": "ipython",
    "version": 3
   },
   "file_extension": ".py",
   "mimetype": "text/x-python",
   "name": "python",
   "nbconvert_exporter": "python",
   "pygments_lexer": "ipython3",
   "version": "3.8.5"
  }
 },
 "nbformat": 4,
 "nbformat_minor": 4
}
